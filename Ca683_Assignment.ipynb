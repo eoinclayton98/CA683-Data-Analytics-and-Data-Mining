{
  "nbformat": 4,
  "nbformat_minor": 0,
  "metadata": {
    "colab": {
      "name": "Ca683_Assignment.ipynb",
      "provenance": [],
      "collapsed_sections": [],
      "include_colab_link": true
    },
    "kernelspec": {
      "name": "python3",
      "display_name": "Python 3"
    },
    "language_info": {
      "name": "python"
    }
  },
  "cells": [
    {
      "cell_type": "markdown",
      "metadata": {
        "id": "view-in-github",
        "colab_type": "text"
      },
      "source": [
        "<a href=\"https://colab.research.google.com/github/eoinclayton98/CA683-Data-Analytics-and-Data-Mining/blob/main/Ca683_Assignment.ipynb\" target=\"_parent\"><img src=\"https://colab.research.google.com/assets/colab-badge.svg\" alt=\"Open In Colab\"/></a>"
      ]
    },
    {
      "cell_type": "code",
      "metadata": {
        "id": "-ttdyCq_G0DV",
        "colab": {
          "base_uri": "https://localhost:8080/"
        },
        "outputId": "88b1ee22-e185-4c95-c971-9dababfa837d"
      },
      "source": [
        "from google.colab import drive \n",
        "drive.mount('/content/gdrive')"
      ],
      "execution_count": 27,
      "outputs": [
        {
          "output_type": "stream",
          "text": [
            "Drive already mounted at /content/gdrive; to attempt to forcibly remount, call drive.mount(\"/content/gdrive\", force_remount=True).\n"
          ],
          "name": "stdout"
        }
      ]
    },
    {
      "cell_type": "code",
      "metadata": {
        "id": "DFXzBKypHXBc"
      },
      "source": [
        "import pandas as pd\n",
        "from google.colab import files\n",
        "import matplotlib.pyplot as plt\n",
        "import seaborn as sns\n",
        "import numpy as np\n",
        "from sklearn.metrics import confusion_matrix\n",
        "from sklearn.linear_model import LogisticRegressionCV\n",
        "from sklearn.ensemble import RandomForestClassifier\n",
        "from sklearn.model_selection import train_test_split, cross_val_score, cross_val_predict,RepeatedStratifiedKFold,StratifiedKFold\n",
        "from sklearn import metrics\n",
        "\n",
        "\n",
        "df=pd.read_csv('gdrive/My Drive/CA683/investmentVC.csv', encoding='latin1')"
      ],
      "execution_count": 68,
      "outputs": []
    },
    {
      "cell_type": "code",
      "metadata": {
        "colab": {
          "base_uri": "https://localhost:8080/"
        },
        "id": "Rr4B4ccuc8Nh",
        "outputId": "e9554e81-c338-4826-c71c-08c25cdf0d62"
      },
      "source": [
        "#Total rows and columns within initial dataset\n",
        "df.shape"
      ],
      "execution_count": null,
      "outputs": [
        {
          "output_type": "execute_result",
          "data": {
            "text/plain": [
              "(49438, 39)"
            ]
          },
          "metadata": {
            "tags": []
          },
          "execution_count": 10
        }
      ]
    },
    {
      "cell_type": "code",
      "metadata": {
        "id": "Fns00FTJwpOj",
        "colab": {
          "base_uri": "https://localhost:8080/",
          "height": 419
        },
        "outputId": "093fb761-3c53-46a0-9288-99dfa98cb8e2"
      },
      "source": [
        "#First let's remove all columns we do not need for our data analysis \n",
        "\n",
        "df.drop(['permalink', 'undisclosed', 'convertible_note', 'debt_financing', 'post_ipo_equity', 'founded_at', 'post_ipo_equity', 'post_ipo_debt', 'secondary_market', 'homepage_url', 'founded_month', 'founded_quarter', 'state_code', 'city', 'category_list', 'region', 'founded_year', 'first_funding_at', 'last_funding_at', 'seed', 'venture', 'equity_crowdfunding', 'angel', 'grant', 'private_equity', 'product_crowdfunding', 'round_A', 'round_B', 'round_C', 'round_D', 'round_E', 'round_F', 'round_G', 'round_H'], axis=1, inplace=True)\n",
        "df\n"
      ],
      "execution_count": 69,
      "outputs": [
        {
          "output_type": "execute_result",
          "data": {
            "text/html": [
              "<div>\n",
              "<style scoped>\n",
              "    .dataframe tbody tr th:only-of-type {\n",
              "        vertical-align: middle;\n",
              "    }\n",
              "\n",
              "    .dataframe tbody tr th {\n",
              "        vertical-align: top;\n",
              "    }\n",
              "\n",
              "    .dataframe thead th {\n",
              "        text-align: right;\n",
              "    }\n",
              "</style>\n",
              "<table border=\"1\" class=\"dataframe\">\n",
              "  <thead>\n",
              "    <tr style=\"text-align: right;\">\n",
              "      <th></th>\n",
              "      <th>name</th>\n",
              "      <th>market</th>\n",
              "      <th>funding_total_usd</th>\n",
              "      <th>status</th>\n",
              "      <th>country_code</th>\n",
              "      <th>funding_rounds</th>\n",
              "    </tr>\n",
              "  </thead>\n",
              "  <tbody>\n",
              "    <tr>\n",
              "      <th>0</th>\n",
              "      <td>#waywire</td>\n",
              "      <td>News</td>\n",
              "      <td>1,750,000</td>\n",
              "      <td>acquired</td>\n",
              "      <td>USA</td>\n",
              "      <td>1</td>\n",
              "    </tr>\n",
              "    <tr>\n",
              "      <th>1</th>\n",
              "      <td>&amp;TV Communications</td>\n",
              "      <td>Games</td>\n",
              "      <td>4,000,000</td>\n",
              "      <td>operating</td>\n",
              "      <td>USA</td>\n",
              "      <td>2</td>\n",
              "    </tr>\n",
              "    <tr>\n",
              "      <th>2</th>\n",
              "      <td>Rock' Your Paper</td>\n",
              "      <td>Publishing</td>\n",
              "      <td>40,000</td>\n",
              "      <td>operating</td>\n",
              "      <td>EST</td>\n",
              "      <td>1</td>\n",
              "    </tr>\n",
              "    <tr>\n",
              "      <th>3</th>\n",
              "      <td>(In)Touch Network</td>\n",
              "      <td>Electronics</td>\n",
              "      <td>1,500,000</td>\n",
              "      <td>operating</td>\n",
              "      <td>GBR</td>\n",
              "      <td>1</td>\n",
              "    </tr>\n",
              "    <tr>\n",
              "      <th>4</th>\n",
              "      <td>-R- Ranch and Mine</td>\n",
              "      <td>Tourism</td>\n",
              "      <td>60,000</td>\n",
              "      <td>operating</td>\n",
              "      <td>USA</td>\n",
              "      <td>2</td>\n",
              "    </tr>\n",
              "    <tr>\n",
              "      <th>...</th>\n",
              "      <td>...</td>\n",
              "      <td>...</td>\n",
              "      <td>...</td>\n",
              "      <td>...</td>\n",
              "      <td>...</td>\n",
              "      <td>...</td>\n",
              "    </tr>\n",
              "    <tr>\n",
              "      <th>49433</th>\n",
              "      <td>Zzish</td>\n",
              "      <td>Education</td>\n",
              "      <td>320,000</td>\n",
              "      <td>operating</td>\n",
              "      <td>GBR</td>\n",
              "      <td>1</td>\n",
              "    </tr>\n",
              "    <tr>\n",
              "      <th>49434</th>\n",
              "      <td>ZZNode Science and Technology</td>\n",
              "      <td>Enterprise Software</td>\n",
              "      <td>3,174,602</td>\n",
              "      <td>operating</td>\n",
              "      <td>CHN</td>\n",
              "      <td>1</td>\n",
              "    </tr>\n",
              "    <tr>\n",
              "      <th>49435</th>\n",
              "      <td>Zzzzapp Wireless ltd.</td>\n",
              "      <td>Web Development</td>\n",
              "      <td>97,398</td>\n",
              "      <td>operating</td>\n",
              "      <td>HRV</td>\n",
              "      <td>5</td>\n",
              "    </tr>\n",
              "    <tr>\n",
              "      <th>49436</th>\n",
              "      <td>[a]list games</td>\n",
              "      <td>Games</td>\n",
              "      <td>9,300,000</td>\n",
              "      <td>operating</td>\n",
              "      <td>NaN</td>\n",
              "      <td>1</td>\n",
              "    </tr>\n",
              "    <tr>\n",
              "      <th>49437</th>\n",
              "      <td>[x+1]</td>\n",
              "      <td>Enterprise Software</td>\n",
              "      <td>71,000,000</td>\n",
              "      <td>operating</td>\n",
              "      <td>USA</td>\n",
              "      <td>4</td>\n",
              "    </tr>\n",
              "  </tbody>\n",
              "</table>\n",
              "<p>49438 rows × 6 columns</p>\n",
              "</div>"
            ],
            "text/plain": [
              "                                name  ... funding_rounds\n",
              "0                           #waywire  ...              1\n",
              "1                 &TV Communications  ...              2\n",
              "2                   Rock' Your Paper  ...              1\n",
              "3                  (In)Touch Network  ...              1\n",
              "4                 -R- Ranch and Mine  ...              2\n",
              "...                              ...  ...            ...\n",
              "49433                          Zzish  ...              1\n",
              "49434  ZZNode Science and Technology  ...              1\n",
              "49435          Zzzzapp Wireless ltd.  ...              5\n",
              "49436                  [a]list games  ...              1\n",
              "49437                          [x+1]  ...              4\n",
              "\n",
              "[49438 rows x 6 columns]"
            ]
          },
          "metadata": {
            "tags": []
          },
          "execution_count": 69
        }
      ]
    },
    {
      "cell_type": "code",
      "metadata": {
        "colab": {
          "base_uri": "https://localhost:8080/",
          "height": 419
        },
        "id": "ksuEF2BKQ9B7",
        "outputId": "c628aae3-5445-48f0-d846-da508dd1ef34"
      },
      "source": [
        "# Change all acquired values to operating\n",
        "\n",
        "for index in df.index:\n",
        "    if df.loc[index,'status']=='acquired':\n",
        "        df.loc[index,'status'] = 'operating'\n",
        "\n",
        "df"
      ],
      "execution_count": null,
      "outputs": [
        {
          "output_type": "execute_result",
          "data": {
            "text/html": [
              "<div>\n",
              "<style scoped>\n",
              "    .dataframe tbody tr th:only-of-type {\n",
              "        vertical-align: middle;\n",
              "    }\n",
              "\n",
              "    .dataframe tbody tr th {\n",
              "        vertical-align: top;\n",
              "    }\n",
              "\n",
              "    .dataframe thead th {\n",
              "        text-align: right;\n",
              "    }\n",
              "</style>\n",
              "<table border=\"1\" class=\"dataframe\">\n",
              "  <thead>\n",
              "    <tr style=\"text-align: right;\">\n",
              "      <th></th>\n",
              "      <th>name</th>\n",
              "      <th>market</th>\n",
              "      <th>funding_total_usd</th>\n",
              "      <th>status</th>\n",
              "      <th>country_code</th>\n",
              "      <th>funding_rounds</th>\n",
              "    </tr>\n",
              "  </thead>\n",
              "  <tbody>\n",
              "    <tr>\n",
              "      <th>0</th>\n",
              "      <td>#waywire</td>\n",
              "      <td>News</td>\n",
              "      <td>1,750,000</td>\n",
              "      <td>operating</td>\n",
              "      <td>USA</td>\n",
              "      <td>1</td>\n",
              "    </tr>\n",
              "    <tr>\n",
              "      <th>1</th>\n",
              "      <td>&amp;TV Communications</td>\n",
              "      <td>Games</td>\n",
              "      <td>4,000,000</td>\n",
              "      <td>operating</td>\n",
              "      <td>USA</td>\n",
              "      <td>2</td>\n",
              "    </tr>\n",
              "    <tr>\n",
              "      <th>2</th>\n",
              "      <td>Rock' Your Paper</td>\n",
              "      <td>Publishing</td>\n",
              "      <td>40,000</td>\n",
              "      <td>operating</td>\n",
              "      <td>EST</td>\n",
              "      <td>1</td>\n",
              "    </tr>\n",
              "    <tr>\n",
              "      <th>3</th>\n",
              "      <td>(In)Touch Network</td>\n",
              "      <td>Electronics</td>\n",
              "      <td>1,500,000</td>\n",
              "      <td>operating</td>\n",
              "      <td>GBR</td>\n",
              "      <td>1</td>\n",
              "    </tr>\n",
              "    <tr>\n",
              "      <th>4</th>\n",
              "      <td>-R- Ranch and Mine</td>\n",
              "      <td>Tourism</td>\n",
              "      <td>60,000</td>\n",
              "      <td>operating</td>\n",
              "      <td>USA</td>\n",
              "      <td>2</td>\n",
              "    </tr>\n",
              "    <tr>\n",
              "      <th>...</th>\n",
              "      <td>...</td>\n",
              "      <td>...</td>\n",
              "      <td>...</td>\n",
              "      <td>...</td>\n",
              "      <td>...</td>\n",
              "      <td>...</td>\n",
              "    </tr>\n",
              "    <tr>\n",
              "      <th>49433</th>\n",
              "      <td>Zzish</td>\n",
              "      <td>Education</td>\n",
              "      <td>320,000</td>\n",
              "      <td>operating</td>\n",
              "      <td>GBR</td>\n",
              "      <td>1</td>\n",
              "    </tr>\n",
              "    <tr>\n",
              "      <th>49434</th>\n",
              "      <td>ZZNode Science and Technology</td>\n",
              "      <td>Enterprise Software</td>\n",
              "      <td>3,174,602</td>\n",
              "      <td>operating</td>\n",
              "      <td>CHN</td>\n",
              "      <td>1</td>\n",
              "    </tr>\n",
              "    <tr>\n",
              "      <th>49435</th>\n",
              "      <td>Zzzzapp Wireless ltd.</td>\n",
              "      <td>Web Development</td>\n",
              "      <td>97,398</td>\n",
              "      <td>operating</td>\n",
              "      <td>HRV</td>\n",
              "      <td>5</td>\n",
              "    </tr>\n",
              "    <tr>\n",
              "      <th>49436</th>\n",
              "      <td>[a]list games</td>\n",
              "      <td>Games</td>\n",
              "      <td>9,300,000</td>\n",
              "      <td>operating</td>\n",
              "      <td>NaN</td>\n",
              "      <td>1</td>\n",
              "    </tr>\n",
              "    <tr>\n",
              "      <th>49437</th>\n",
              "      <td>[x+1]</td>\n",
              "      <td>Enterprise Software</td>\n",
              "      <td>71,000,000</td>\n",
              "      <td>operating</td>\n",
              "      <td>USA</td>\n",
              "      <td>4</td>\n",
              "    </tr>\n",
              "  </tbody>\n",
              "</table>\n",
              "<p>49438 rows × 6 columns</p>\n",
              "</div>"
            ],
            "text/plain": [
              "                                name  ... funding_rounds\n",
              "0                           #waywire  ...              1\n",
              "1                 &TV Communications  ...              2\n",
              "2                   Rock' Your Paper  ...              1\n",
              "3                  (In)Touch Network  ...              1\n",
              "4                 -R- Ranch and Mine  ...              2\n",
              "...                              ...  ...            ...\n",
              "49433                          Zzish  ...              1\n",
              "49434  ZZNode Science and Technology  ...              1\n",
              "49435          Zzzzapp Wireless ltd.  ...              5\n",
              "49436                  [a]list games  ...              1\n",
              "49437                          [x+1]  ...              4\n",
              "\n",
              "[49438 rows x 6 columns]"
            ]
          },
          "metadata": {
            "tags": []
          },
          "execution_count": 86
        }
      ]
    },
    {
      "cell_type": "code",
      "metadata": {
        "id": "t8rxa2toyxR7",
        "colab": {
          "base_uri": "https://localhost:8080/"
        },
        "outputId": "22b0cdb6-7c5e-4077-f9a5-8326ab8fa221"
      },
      "source": [
        "#Then we will check for duplicate rows\n",
        "\n",
        "print('Duplicated entries:',df.duplicated().sum())\n",
        "df[df.duplicated()].isna().mean()\n",
        "df.dropna(how='all',inplace=True)"
      ],
      "execution_count": 70,
      "outputs": [
        {
          "output_type": "stream",
          "text": [
            "Duplicated entries: 1\n"
          ],
          "name": "stdout"
        }
      ]
    },
    {
      "cell_type": "code",
      "metadata": {
        "id": "XEHjqiqZ2VDU"
      },
      "source": [
        "#Check how many rows have status = NaN and remove them\n",
        "\n",
        "df[df['status'].isnull()]\n",
        "df = df[df['status'].notna()]"
      ],
      "execution_count": 71,
      "outputs": []
    },
    {
      "cell_type": "code",
      "metadata": {
        "id": "o2E3rPdNJVWA",
        "colab": {
          "base_uri": "https://localhost:8080/",
          "height": 453
        },
        "outputId": "24369bc4-6c9b-4af0-b0ee-ecf13ef6ed6a"
      },
      "source": [
        "# Top 10 start ups by country \n",
        "\n",
        "plt.figure(figsize=(16,7))\n",
        "g = sns.countplot(x ='country_code', data = df, order=df['country_code'].value_counts().iloc[:10].index)\n",
        "plt.xticks(rotation=30)\n",
        "plt.show()"
      ],
      "execution_count": 46,
      "outputs": [
        {
          "output_type": "display_data",
          "data": {
            "image/png": "[encoded data removed]",
            "text/plain": [
              "<Figure size 1152x504 with 1 Axes>"
            ]
          },
          "metadata": {
            "tags": [],
            "needs_background": "light"
          }
        }
      ]
    },
    {
      "cell_type": "code",
      "metadata": {
        "id": "WyZlMeHn4hTI",
        "colab": {
          "base_uri": "https://localhost:8080/",
          "height": 435
        },
        "outputId": "379aa16a-df03-4884-d867-d4a9235af07f"
      },
      "source": [
        "sns.boxplot(data=df,x='status',y='funding_rounds')\n",
        "df.groupby('status')['funding_rounds'].describe()"
      ],
      "execution_count": 47,
      "outputs": [
        {
          "output_type": "execute_result",
          "data": {
            "text/html": [
              "<div>\n",
              "<style scoped>\n",
              "    .dataframe tbody tr th:only-of-type {\n",
              "        vertical-align: middle;\n",
              "    }\n",
              "\n",
              "    .dataframe tbody tr th {\n",
              "        vertical-align: top;\n",
              "    }\n",
              "\n",
              "    .dataframe thead th {\n",
              "        text-align: right;\n",
              "    }\n",
              "</style>\n",
              "<table border=\"1\" class=\"dataframe\">\n",
              "  <thead>\n",
              "    <tr style=\"text-align: right;\">\n",
              "      <th></th>\n",
              "      <th>count</th>\n",
              "      <th>mean</th>\n",
              "      <th>std</th>\n",
              "      <th>min</th>\n",
              "      <th>25%</th>\n",
              "      <th>50%</th>\n",
              "      <th>75%</th>\n",
              "      <th>max</th>\n",
              "    </tr>\n",
              "    <tr>\n",
              "      <th>status</th>\n",
              "      <th></th>\n",
              "      <th></th>\n",
              "      <th></th>\n",
              "      <th></th>\n",
              "      <th></th>\n",
              "      <th></th>\n",
              "      <th></th>\n",
              "      <th></th>\n",
              "    </tr>\n",
              "  </thead>\n",
              "  <tbody>\n",
              "    <tr>\n",
              "      <th>acquired</th>\n",
              "      <td>3692.0</td>\n",
              "      <td>2.013814</td>\n",
              "      <td>1.398832</td>\n",
              "      <td>1.0</td>\n",
              "      <td>1.0</td>\n",
              "      <td>2.0</td>\n",
              "      <td>3.0</td>\n",
              "      <td>15.0</td>\n",
              "    </tr>\n",
              "    <tr>\n",
              "      <th>closed</th>\n",
              "      <td>2603.0</td>\n",
              "      <td>1.434114</td>\n",
              "      <td>0.965478</td>\n",
              "      <td>1.0</td>\n",
              "      <td>1.0</td>\n",
              "      <td>1.0</td>\n",
              "      <td>2.0</td>\n",
              "      <td>11.0</td>\n",
              "    </tr>\n",
              "    <tr>\n",
              "      <th>operating</th>\n",
              "      <td>41829.0</td>\n",
              "      <td>1.689522</td>\n",
              "      <td>1.302072</td>\n",
              "      <td>1.0</td>\n",
              "      <td>1.0</td>\n",
              "      <td>1.0</td>\n",
              "      <td>2.0</td>\n",
              "      <td>18.0</td>\n",
              "    </tr>\n",
              "  </tbody>\n",
              "</table>\n",
              "</div>"
            ],
            "text/plain": [
              "             count      mean       std  min  25%  50%  75%   max\n",
              "status                                                          \n",
              "acquired    3692.0  2.013814  1.398832  1.0  1.0  2.0  3.0  15.0\n",
              "closed      2603.0  1.434114  0.965478  1.0  1.0  1.0  2.0  11.0\n",
              "operating  41829.0  1.689522  1.302072  1.0  1.0  1.0  2.0  18.0"
            ]
          },
          "metadata": {
            "tags": []
          },
          "execution_count": 47
        },
        {
          "output_type": "display_data",
          "data": {
            "image/png": "[encoded data removed]",
            "text/plain": [
              "<Figure size 432x288 with 1 Axes>"
            ]
          },
          "metadata": {
            "tags": [],
            "needs_background": "light"
          }
        }
      ]
    },
    {
      "cell_type": "code",
      "metadata": {
        "id": "ShZ1Y98ADsRR",
        "colab": {
          "base_uri": "https://localhost:8080/",
          "height": 301
        },
        "outputId": "a63ff46c-f95b-412f-d916-529369c430a8"
      },
      "source": [
        "# Logistic Regression for operating and closed\n",
        "\n",
        "# Convert status from operating and closed into binary\n",
        "\n",
        "print('Before')\n",
        "display(df.groupby('status').agg({'country_code':'count'}).sort_values(by=['status'], ascending = False))\n",
        "StatusDict = { \"operating\":0,\"closed\":1}\n",
        "\n",
        "df = df[(df['status'] == 'operating') |  (df['status'] == 'closed')]\n",
        "df[\"status_binary\"] = df[\"status\"].map(StatusDict)\n",
        "df = df.drop(['status'], axis = 1)\n",
        "\n",
        "print('After')\n",
        "display(df.groupby('status_binary').agg({'country_code':'count'}).sort_values(by=['status_binary'], ascending = True))"
      ],
      "execution_count": null,
      "outputs": [
        {
          "output_type": "stream",
          "text": [
            "Before\n"
          ],
          "name": "stdout"
        },
        {
          "output_type": "display_data",
          "data": {
            "text/html": [
              "<div>\n",
              "<style scoped>\n",
              "    .dataframe tbody tr th:only-of-type {\n",
              "        vertical-align: middle;\n",
              "    }\n",
              "\n",
              "    .dataframe tbody tr th {\n",
              "        vertical-align: top;\n",
              "    }\n",
              "\n",
              "    .dataframe thead th {\n",
              "        text-align: right;\n",
              "    }\n",
              "</style>\n",
              "<table border=\"1\" class=\"dataframe\">\n",
              "  <thead>\n",
              "    <tr style=\"text-align: right;\">\n",
              "      <th></th>\n",
              "      <th>country_code</th>\n",
              "    </tr>\n",
              "    <tr>\n",
              "      <th>status</th>\n",
              "      <th></th>\n",
              "    </tr>\n",
              "  </thead>\n",
              "  <tbody>\n",
              "    <tr>\n",
              "      <th>operating</th>\n",
              "      <td>18884</td>\n",
              "    </tr>\n",
              "    <tr>\n",
              "      <th>closed</th>\n",
              "      <td>990</td>\n",
              "    </tr>\n",
              "  </tbody>\n",
              "</table>\n",
              "</div>"
            ],
            "text/plain": [
              "           country_code\n",
              "status                 \n",
              "operating         18884\n",
              "closed              990"
            ]
          },
          "metadata": {
            "tags": []
          }
        },
        {
          "output_type": "stream",
          "text": [
            "After\n"
          ],
          "name": "stdout"
        },
        {
          "output_type": "display_data",
          "data": {
            "text/html": [
              "<div>\n",
              "<style scoped>\n",
              "    .dataframe tbody tr th:only-of-type {\n",
              "        vertical-align: middle;\n",
              "    }\n",
              "\n",
              "    .dataframe tbody tr th {\n",
              "        vertical-align: top;\n",
              "    }\n",
              "\n",
              "    .dataframe thead th {\n",
              "        text-align: right;\n",
              "    }\n",
              "</style>\n",
              "<table border=\"1\" class=\"dataframe\">\n",
              "  <thead>\n",
              "    <tr style=\"text-align: right;\">\n",
              "      <th></th>\n",
              "      <th>country_code</th>\n",
              "    </tr>\n",
              "    <tr>\n",
              "      <th>status_binary</th>\n",
              "      <th></th>\n",
              "    </tr>\n",
              "  </thead>\n",
              "  <tbody>\n",
              "    <tr>\n",
              "      <th>0</th>\n",
              "      <td>18884</td>\n",
              "    </tr>\n",
              "    <tr>\n",
              "      <th>1</th>\n",
              "      <td>990</td>\n",
              "    </tr>\n",
              "  </tbody>\n",
              "</table>\n",
              "</div>"
            ],
            "text/plain": [
              "               country_code\n",
              "status_binary              \n",
              "0                     18884\n",
              "1                       990"
            ]
          },
          "metadata": {
            "tags": []
          }
        }
      ]
    },
    {
      "cell_type": "code",
      "metadata": {
        "id": "6p_lOu5_Eqi7"
      },
      "source": [
        "modelling_df = df\n",
        "X = pd.get_dummies(modelling_df.drop(['status_binary'],axis = 1))\n",
        "y = modelling_df['status_binary']"
      ],
      "execution_count": null,
      "outputs": []
    },
    {
      "cell_type": "code",
      "metadata": {
        "id": "pg16PRobFspb"
      },
      "source": [
        "# Splitting the dataset into train and test\n",
        "\n",
        "X = pd.get_dummies(modelling_df.drop(['status_binary'],axis = 1))\n",
        "y = modelling_df['status_binary']\n",
        "X_train, X_test, y_train, y_test = train_test_split(X, y, test_size=0.33)"
      ],
      "execution_count": null,
      "outputs": []
    },
    {
      "cell_type": "code",
      "metadata": {
        "id": "Lun5QJMiE1JC",
        "colab": {
          "base_uri": "https://localhost:8080/"
        },
        "outputId": "dd9b5b58-3835-4cca-882e-cd4894fb4fcd"
      },
      "source": [
        "# Training the model and finding the training accuracy and test accuracy\n",
        "\n",
        "logreg = LogisticRegressionCV(max_iter=10000)\n",
        "logreg.fit(X_train,y_train)\n",
        "\n",
        "print('The training model accuracy: {:.4}'.format(logreg.score(X_train,y_train)))\n",
        "print('The test model accuracy: {:.4}'.format(logreg.score(X_test,y_test)))"
      ],
      "execution_count": null,
      "outputs": [
        {
          "output_type": "stream",
          "text": [
            "The training model accuracy: 0.9463\n",
            "The test model accuracy: 0.9492\n"
          ],
          "name": "stdout"
        }
      ]
    },
    {
      "cell_type": "code",
      "metadata": {
        "colab": {
          "base_uri": "https://localhost:8080/"
        },
        "id": "Shil2PoMb5j-",
        "outputId": "85534f5c-0702-48c7-e105-c3788c3875a6"
      },
      "source": [
        "# What % are Operating and closed\n",
        "\n",
        "num_operating = np.count_nonzero(results == 0)\n",
        "print(\"Number operating: \" + str(num_operating))\n",
        "\n",
        "num_closed = np.count_nonzero(results == 1)\n",
        "print(\"Number Closed: \" + str(num_closed))"
      ],
      "execution_count": null,
      "outputs": [
        {
          "output_type": "stream",
          "text": [
            "Number operating: 7301\n",
            "Number Closed: 0\n"
          ],
          "name": "stdout"
        }
      ]
    },
    {
      "cell_type": "code",
      "metadata": {
        "id": "03i23EW2q2O9"
      },
      "source": [
        "# Random Forest for operating and closed\n",
        "\n",
        "# Splitting the dataset into train and test\n",
        "\n",
        "X_train, X_test, y_train, y_test = train_test_split(X, y, test_size=0.33, random_state = 10)"
      ],
      "execution_count": null,
      "outputs": []
    },
    {
      "cell_type": "code",
      "metadata": {
        "colab": {
          "base_uri": "https://localhost:8080/"
        },
        "id": "CN5GrXohrvTT",
        "outputId": "93eecc56-5b51-4361-a84b-690c6f107a0a"
      },
      "source": [
        "#Testing the impact of increasing desicion trees used to predict y\n",
        "\n",
        "n = 10\n",
        "while n <= 200:\n",
        "  model = RandomForestClassifier(n_estimators=n)\n",
        "  model.fit(X_train, y_train)\n",
        "  print('{} - train score: {:.3f} | test score: {:.3f}'.format(n,model.score(X_train,y_train),model.score(X_test,y_test)))\n",
        "  n = n+10"
      ],
      "execution_count": null,
      "outputs": [
        {
          "output_type": "stream",
          "text": [
            "10 - train score: 0.985 | test score: 0.946\n",
            "20 - train score: 0.991 | test score: 0.946\n",
            "30 - train score: 0.996 | test score: 0.946\n",
            "40 - train score: 0.997 | test score: 0.946\n",
            "50 - train score: 0.999 | test score: 0.946\n",
            "60 - train score: 0.999 | test score: 0.946\n",
            "70 - train score: 0.999 | test score: 0.946\n",
            "80 - train score: 1.000 | test score: 0.946\n",
            "90 - train score: 1.000 | test score: 0.946\n",
            "100 - train score: 1.000 | test score: 0.946\n",
            "110 - train score: 1.000 | test score: 0.946\n",
            "120 - train score: 1.000 | test score: 0.946\n",
            "130 - train score: 1.000 | test score: 0.946\n",
            "140 - train score: 1.000 | test score: 0.946\n",
            "150 - train score: 1.000 | test score: 0.946\n",
            "160 - train score: 1.000 | test score: 0.946\n",
            "170 - train score: 1.000 | test score: 0.946\n",
            "180 - train score: 1.000 | test score: 0.946\n",
            "190 - train score: 1.000 | test score: 0.946\n",
            "200 - train score: 1.000 | test score: 0.946\n"
          ],
          "name": "stdout"
        }
      ]
    },
    {
      "cell_type": "code",
      "metadata": {
        "colab": {
          "base_uri": "https://localhost:8080/",
          "height": 279
        },
        "id": "VjP8BLK4sQxh",
        "outputId": "60aeebf0-60bd-4197-fc40-78cd03fa0208"
      },
      "source": [
        "# Training the model\n",
        "\n",
        "model = RandomForestClassifier(n_estimators=110) \n",
        "model.fit(X_train, y_train)\n",
        "\n",
        "# Plotting the true positives against the false positives\n",
        "y_pred_proba = model.predict_proba(X_test) [:,1]\n",
        "fpr, tpr, _ = metrics.roc_curve(y_test, y_pred_proba)\n",
        "auc = metrics.roc_auc_score(y_test, y_pred_proba)\n",
        "plt.plot(fpr,tpr,label=\"data 1, auc=\"+str(auc))\n",
        "plt.xlabel('False positive rate')\n",
        "plt.ylabel('True positive rate')\n",
        "plt.legend(loc=4)\n",
        "plt.show()"
      ],
      "execution_count": null,
      "outputs": [
        {
          "output_type": "display_data",
          "data": {
            "image/png": "[encoded data removed]",
            "text/plain": [
              "<Figure size 432x288 with 1 Axes>"
            ]
          },
          "metadata": {
            "tags": [],
            "needs_background": "light"
          }
        }
      ]
    },
    {
      "cell_type": "code",
      "metadata": {
        "colab": {
          "base_uri": "https://localhost:8080/"
        },
        "id": "izaRGk_KBeiG",
        "outputId": "623ef963-12f1-47ec-cd06-17cfd01122d0"
      },
      "source": [
        "# What % are Operating and closed\n",
        "\n",
        "pred_results = model.predict(X_test)\n",
        "\n",
        "num_operating = np.count_nonzero(pred_results == 0)\n",
        "print(\"Number operating: \" + str(num_operating))\n",
        "\n",
        "num_closed = np.count_nonzero(pred_results == 1)\n",
        "print(\"Number Closed: \" + str(num_closed))\n",
        "\n"
      ],
      "execution_count": null,
      "outputs": [
        {
          "output_type": "stream",
          "text": [
            "Number operating: 7301\n",
            "Number Closed: 0\n"
          ],
          "name": "stdout"
        }
      ]
    },
    {
      "cell_type": "code",
      "metadata": {
        "colab": {
          "base_uri": "https://localhost:8080/"
        },
        "id": "6p50-hpeDfDy",
        "outputId": "42dfb497-9111-4463-f47f-f401e706186e"
      },
      "source": [
        "# Confusing matrix for operating and closed\n",
        "\n",
        "conf_mat = confusion_matrix(y_test, pred_results)\n",
        "print(conf_mat)"
      ],
      "execution_count": null,
      "outputs": [
        {
          "output_type": "stream",
          "text": [
            "[[6909    0]\n",
            " [ 392    0]]\n"
          ],
          "name": "stdout"
        }
      ]
    },
    {
      "cell_type": "code",
      "metadata": {
        "colab": {
          "base_uri": "https://localhost:8080/",
          "height": 332
        },
        "id": "dHK1S-RWFfLL",
        "outputId": "c226a2f2-89f7-4da7-a95d-e1d437f7bc51"
      },
      "source": [
        "# Logistic Regression for acquired and closed\n",
        "\n",
        "# Convert status from operating and closed into binary\n",
        "\n",
        "print('Before')\n",
        "display(df.groupby('status').agg({'country_code':'count'}).sort_values(by=['status'], ascending = False))\n",
        "StatusDict = { \"acquired\":0,\"closed\":1}\n",
        "\n",
        "df = df[(df['status'] == 'closed') |  (df['status'] == 'acquired')]\n",
        "df[\"status_binary\"] = df[\"status\"].map(StatusDict)\n",
        "df = df.drop(['status'], axis = 1)\n",
        "\n",
        "print('After')\n",
        "display(df.groupby('status_binary').agg({'country_code':'count'}).sort_values(by=['status_binary'], ascending = True))"
      ],
      "execution_count": 72,
      "outputs": [
        {
          "output_type": "stream",
          "text": [
            "Before\n"
          ],
          "name": "stdout"
        },
        {
          "output_type": "display_data",
          "data": {
            "text/html": [
              "<div>\n",
              "<style scoped>\n",
              "    .dataframe tbody tr th:only-of-type {\n",
              "        vertical-align: middle;\n",
              "    }\n",
              "\n",
              "    .dataframe tbody tr th {\n",
              "        vertical-align: top;\n",
              "    }\n",
              "\n",
              "    .dataframe thead th {\n",
              "        text-align: right;\n",
              "    }\n",
              "</style>\n",
              "<table border=\"1\" class=\"dataframe\">\n",
              "  <thead>\n",
              "    <tr style=\"text-align: right;\">\n",
              "      <th></th>\n",
              "      <th>country_code</th>\n",
              "    </tr>\n",
              "    <tr>\n",
              "      <th>status</th>\n",
              "      <th></th>\n",
              "    </tr>\n",
              "  </thead>\n",
              "  <tbody>\n",
              "    <tr>\n",
              "      <th>operating</th>\n",
              "      <td>37390</td>\n",
              "    </tr>\n",
              "    <tr>\n",
              "      <th>closed</th>\n",
              "      <td>2195</td>\n",
              "    </tr>\n",
              "    <tr>\n",
              "      <th>acquired</th>\n",
              "      <td>3472</td>\n",
              "    </tr>\n",
              "  </tbody>\n",
              "</table>\n",
              "</div>"
            ],
            "text/plain": [
              "           country_code\n",
              "status                 \n",
              "operating         37390\n",
              "closed             2195\n",
              "acquired           3472"
            ]
          },
          "metadata": {
            "tags": []
          }
        },
        {
          "output_type": "stream",
          "text": [
            "After\n"
          ],
          "name": "stdout"
        },
        {
          "output_type": "display_data",
          "data": {
            "text/html": [
              "<div>\n",
              "<style scoped>\n",
              "    .dataframe tbody tr th:only-of-type {\n",
              "        vertical-align: middle;\n",
              "    }\n",
              "\n",
              "    .dataframe tbody tr th {\n",
              "        vertical-align: top;\n",
              "    }\n",
              "\n",
              "    .dataframe thead th {\n",
              "        text-align: right;\n",
              "    }\n",
              "</style>\n",
              "<table border=\"1\" class=\"dataframe\">\n",
              "  <thead>\n",
              "    <tr style=\"text-align: right;\">\n",
              "      <th></th>\n",
              "      <th>country_code</th>\n",
              "    </tr>\n",
              "    <tr>\n",
              "      <th>status_binary</th>\n",
              "      <th></th>\n",
              "    </tr>\n",
              "  </thead>\n",
              "  <tbody>\n",
              "    <tr>\n",
              "      <th>0</th>\n",
              "      <td>3472</td>\n",
              "    </tr>\n",
              "    <tr>\n",
              "      <th>1</th>\n",
              "      <td>2195</td>\n",
              "    </tr>\n",
              "  </tbody>\n",
              "</table>\n",
              "</div>"
            ],
            "text/plain": [
              "               country_code\n",
              "status_binary              \n",
              "0                      3472\n",
              "1                      2195"
            ]
          },
          "metadata": {
            "tags": []
          }
        }
      ]
    },
    {
      "cell_type": "code",
      "metadata": {
        "id": "1VJXdDUYGSmm"
      },
      "source": [
        "modelling_df = df\n",
        "X = pd.get_dummies(modelling_df.drop(['status_binary'],axis = 1))\n",
        "y = modelling_df['status_binary']"
      ],
      "execution_count": 11,
      "outputs": []
    },
    {
      "cell_type": "code",
      "metadata": {
        "id": "uLdzcVxgGdD7"
      },
      "source": [
        "# Splitting the dataset into train and test\n",
        "\n",
        "X = pd.get_dummies(modelling_df.drop(['status_binary'],axis = 1))\n",
        "y = modelling_df['status_binary']\n",
        "X_train, X_test, y_train, y_test = train_test_split(X, y, test_size=0.33)"
      ],
      "execution_count": 12,
      "outputs": []
    },
    {
      "cell_type": "code",
      "metadata": {
        "colab": {
          "base_uri": "https://localhost:8080/"
        },
        "id": "-C_lPSLUGiny",
        "outputId": "bc5ad42f-02f1-4db1-9179-52e80ad97585"
      },
      "source": [
        "# Training the model and finding the training accuracy and test accuracy\n",
        "\n",
        "logreg = LogisticRegressionCV(max_iter=10000)\n",
        "logreg.fit(X_train,y_train)\n",
        "\n",
        "print('The training model accuracy: {:.4}'.format(logreg.score(X_train,y_train)))\n",
        "print('The test model accuracy: {:.4}'.format(logreg.score(X_test,y_test)))"
      ],
      "execution_count": 13,
      "outputs": [
        {
          "output_type": "stream",
          "text": [
            "The training model accuracy: 0.8072\n",
            "The test model accuracy: 0.6848\n"
          ],
          "name": "stdout"
        }
      ]
    },
    {
      "cell_type": "code",
      "metadata": {
        "colab": {
          "base_uri": "https://localhost:8080/"
        },
        "id": "XfSfDTegh5n9",
        "outputId": "d4052abe-cee6-4be3-c832-7b44c2386430"
      },
      "source": [
        "# Number of companies that are acquired and closed\n",
        "\n",
        "prediction = logreg.predict(X_test)\n",
        "\n",
        "num_acquired = np.count_nonzero(prediction == 0)\n",
        "acquired_percentage = (num_acquired/len(X_test))*100\n",
        "print(\"Number acquired: \" + str(num_acquired) + \" (\" + str(round(acquired_percentage)) + \"%)\")\n",
        "\n",
        "num_closed = np.count_nonzero(prediction == 1)\n",
        "closed_percentage = (num_closed/len(X_test))*100\n",
        "print(\"Number Closed: \" + str(num_closed) + \" (\" + str(round(closed_percentage)) + \"%)\")\n"
      ],
      "execution_count": 23,
      "outputs": [
        {
          "output_type": "stream",
          "text": [
            "Number acquired: 1426 (69%)\n",
            "Number Closed: 652 (31%)\n"
          ],
          "name": "stdout"
        }
      ]
    },
    {
      "cell_type": "code",
      "metadata": {
        "colab": {
          "base_uri": "https://localhost:8080/"
        },
        "id": "JvloBxzwiM1x",
        "outputId": "1aa8500f-70d7-465e-a28d-7177f35b0c75"
      },
      "source": [
        "# Confusion matrix for aquired and closed\n",
        "\n",
        "conf_mat = confusion_matrix(y_test, prediction)\n",
        "print(conf_mat)"
      ],
      "execution_count": 16,
      "outputs": [
        {
          "output_type": "stream",
          "text": [
            "[[1000  229]\n",
            " [ 426  423]]\n"
          ],
          "name": "stdout"
        }
      ]
    },
    {
      "cell_type": "code",
      "metadata": {
        "colab": {
          "base_uri": "https://localhost:8080/",
          "height": 279
        },
        "id": "-g3FJDqHl-C1",
        "outputId": "e11dea41-706a-4c5a-d90a-a63c36ea9e30"
      },
      "source": [
        "# Plotting the true positives against the false positives\n",
        "\n",
        "y_pred_proba = logreg.predict_proba(X_test) [:,1]\n",
        "fpr, tpr, _ = metrics.roc_curve(y_test, y_pred_proba)\n",
        "auc = metrics.roc_auc_score(y_test, y_pred_proba)\n",
        "plt.plot(fpr,tpr,label=\"data 1, auc=\"+str(auc))\n",
        "plt.xlabel('False positive rate')\n",
        "plt.ylabel('True positive rate')\n",
        "plt.legend(loc=4)\n",
        "plt.show()"
      ],
      "execution_count": 26,
      "outputs": [
        {
          "output_type": "display_data",
          "data": {
            "image/png": "[encoded data removed]",
            "text/plain": [
              "<Figure size 432x288 with 1 Axes>"
            ]
          },
          "metadata": {
            "tags": [],
            "needs_background": "light"
          }
        }
      ]
    },
    {
      "cell_type": "code",
      "metadata": {
        "id": "QP9XZrsPmdVV"
      },
      "source": [
        "# Random Forest for aquired and closed\n",
        "\n",
        "X_train, X_test, y_train, y_test = train_test_split(X, y, test_size=0.33, random_state = 10)"
      ],
      "execution_count": 64,
      "outputs": []
    },
    {
      "cell_type": "code",
      "metadata": {
        "colab": {
          "base_uri": "https://localhost:8080/"
        },
        "id": "Jg37n6Tcmwyq",
        "outputId": "a3bd4e40-a92f-4c21-a71d-b774cd54834f"
      },
      "source": [
        "#Testing the impact of increasing desicion trees used to predict y\n",
        "\n",
        "n = 10\n",
        "while n <= 200:\n",
        "  model = RandomForestClassifier(n_estimators=n)\n",
        "  model.fit(X_train, y_train)\n",
        "  print('{} - train score: {:.3f} | test score: {:.3f}'.format(n,model.score(X_train,y_train),model.score(X_test,y_test)))\n",
        "  n = n+10"
      ],
      "execution_count": 33,
      "outputs": [
        {
          "output_type": "stream",
          "text": [
            "10 - train score: 0.967 | test score: 0.667\n",
            "20 - train score: 0.987 | test score: 0.662\n",
            "30 - train score: 0.995 | test score: 0.676\n",
            "40 - train score: 0.997 | test score: 0.671\n",
            "50 - train score: 0.999 | test score: 0.679\n",
            "60 - train score: 0.999 | test score: 0.677\n",
            "70 - train score: 1.000 | test score: 0.676\n",
            "80 - train score: 1.000 | test score: 0.675\n",
            "90 - train score: 1.000 | test score: 0.682\n",
            "100 - train score: 1.000 | test score: 0.673\n",
            "110 - train score: 1.000 | test score: 0.675\n",
            "120 - train score: 1.000 | test score: 0.674\n",
            "130 - train score: 1.000 | test score: 0.672\n",
            "140 - train score: 1.000 | test score: 0.668\n",
            "150 - train score: 1.000 | test score: 0.680\n",
            "160 - train score: 1.000 | test score: 0.674\n",
            "170 - train score: 1.000 | test score: 0.675\n",
            "180 - train score: 1.000 | test score: 0.675\n",
            "190 - train score: 1.000 | test score: 0.675\n",
            "200 - train score: 1.000 | test score: 0.679\n"
          ],
          "name": "stdout"
        }
      ]
    },
    {
      "cell_type": "code",
      "metadata": {
        "colab": {
          "base_uri": "https://localhost:8080/",
          "height": 279
        },
        "id": "JT5DUHZmm2vs",
        "outputId": "926c679c-ed0c-4880-c13f-fc68793fc8d5"
      },
      "source": [
        "model = RandomForestClassifier(n_estimators=110) \n",
        "model.fit(X_train, y_train)\n",
        "\n",
        "# Plotting the true positives against the false positives\n",
        "y_pred_proba = model.predict_proba(X_test) [:,1]\n",
        "fpr, tpr, _ = metrics.roc_curve(y_test, y_pred_proba)\n",
        "auc = metrics.roc_auc_score(y_test, y_pred_proba)\n",
        "plt.plot(fpr,tpr,label=\"data 1, auc=\"+str(auc))\n",
        "plt.xlabel('False positive rate')\n",
        "plt.ylabel('True positive rate')\n",
        "plt.legend(loc=4)\n",
        "plt.show()"
      ],
      "execution_count": 34,
      "outputs": [
        {
          "output_type": "display_data",
          "data": {
            "image/png": "[encoded data removed]",
            "text/plain": [
              "<Figure size 432x288 with 1 Axes>"
            ]
          },
          "metadata": {
            "tags": [],
            "needs_background": "light"
          }
        }
      ]
    },
    {
      "cell_type": "code",
      "metadata": {
        "colab": {
          "base_uri": "https://localhost:8080/"
        },
        "id": "v_EFfpe4m7Yo",
        "outputId": "b25c738b-5f3f-4265-bad4-11268616e2b3"
      },
      "source": [
        "# Number of companies that are acquired and closed\n",
        "\n",
        "prediction = logreg.predict(X_test)\n",
        "\n",
        "num_acquired = np.count_nonzero(prediction == 0)\n",
        "acquired_percentage = (num_acquired/len(X_test))*100\n",
        "print(\"Number acquired: \" + str(num_acquired) + \" (\" + str(round(acquired_percentage)) + \"%)\")\n",
        "\n",
        "num_closed = np.count_nonzero(prediction == 1)\n",
        "closed_percentage = (num_closed/len(X_test))*100\n",
        "print(\"Number Closed: \" + str(num_closed) + \" (\" + str(round(closed_percentage)) + \"%)\")\n"
      ],
      "execution_count": 36,
      "outputs": [
        {
          "output_type": "stream",
          "text": [
            "Number acquired: 1402 (67%)\n",
            "Number Closed: 676 (33%)\n"
          ],
          "name": "stdout"
        }
      ]
    },
    {
      "cell_type": "code",
      "metadata": {
        "colab": {
          "base_uri": "https://localhost:8080/"
        },
        "id": "SdDyqRi9m-pq",
        "outputId": "5fd31ac9-e342-4bee-9c39-1a45615346f9"
      },
      "source": [
        "conf_mat = confusion_matrix(y_test, pred_results)\n",
        "print(conf_mat)"
      ],
      "execution_count": 37,
      "outputs": [
        {
          "output_type": "stream",
          "text": [
            "[[983 218]\n",
            " [461 416]]\n"
          ],
          "name": "stdout"
        }
      ]
    },
    {
      "cell_type": "code",
      "metadata": {
        "colab": {
          "base_uri": "https://localhost:8080/"
        },
        "id": "9D_42gYJ2y9d",
        "outputId": "05431acf-1422-4949-d3fe-737e121ad789"
      },
      "source": [
        "# Number of companies that are acquired and closed in actual dataset\n",
        "\n",
        "num_acquired = np.count_nonzero(y_test == 0)\n",
        "acquired_percentage = (num_acquired/len(X_test))*100\n",
        "print(str(round(acquired_percentage)) + \"% acquired\")\n",
        "\n",
        "num_closed = np.count_nonzero(y_test == 1)\n",
        "closed_percentage = (num_closed/len(y_test))*100\n",
        "print(str(round(closed_percentage)) + \"% Closed\")"
      ],
      "execution_count": 75,
      "outputs": [
        {
          "output_type": "stream",
          "text": [
            "58% acquired\n",
            "42% Closed\n"
          ],
          "name": "stdout"
        }
      ]
    }
  ]
}